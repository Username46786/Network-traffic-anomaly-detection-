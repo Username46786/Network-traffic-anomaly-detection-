{
 "cells": [
  {
   "cell_type": "markdown",
   "metadata": {
    "id": "vdaqf6vgTTg4"
   },
   "source": [
    "<p style=\"text-align:center\">\n",
    "    <a href=\"https://skills.network/?utm_medium=Exinfluencer&utm_source=Exinfluencer&utm_content=000026UJ&utm_term=10006555&utm_id=NA-SkillsNetwork-Channel-SkillsNetworkQuickLabsAdvanced_ML_anomaly_detection_L327574471-2022-01-01\" target=\"_blank\">\n",
    "    <img src=\"https://cf-courses-data.s3.us.cloud-object-storage.appdomain.cloud/assets/logos/SN_web_lightmode.png\" width=\"200\" alt=\"Skills Network Logo\"  />\n",
    "    </a>\n",
    "</p>\n"
   ]
  },
  {
   "cell_type": "markdown",
   "metadata": {
    "id": "y2VgPk2mTThF"
   },
   "source": [
    "# **Network traffic anomaly detection (intrusion detection task)**\n"
   ]
  },
  {
   "cell_type": "markdown",
   "metadata": {
    "id": "jkRBtAnQTThK"
   },
   "source": [
    "The purpose of this lab is to build a model at the interface of `NLP` and `Network Security` areas using `Intrusion detection evaluation dataset` (ISCXIDS2012) with helping frameworks & libraries.\n",
    "\n",
    "After completing this lab, you will be able to:\n",
    "\n",
    "1.  Quickly explore the Intrusion detection evaluation dataset and build the best model by the means of functional programming and layer-by-layer model description to solve Network Traffic Anomaly Detection task.\n",
    "2.  Show different calculated metrics of the built model.\n",
    "3.  Change values of some hyperparameters for model training process improving to achieve better results.\n",
    "4.  Visualize the data analysis results with various plot types.\n"
   ]
  },
  {
   "cell_type": "markdown",
   "metadata": {
    "id": "CHwOXFUpTThK"
   },
   "source": [
    "## Agenda\n"
   ]
  },
  {
   "cell_type": "markdown",
   "metadata": {
    "id": "bHSc4iksTThP"
   },
   "source": [
    "*   Theory and Methods\n",
    "*   General part\n",
    "    *   Import required libraries and dataset\n",
    "    *   Some additional & preparative actions\n",
    "    *   Reading the Dataset\n",
    "    *   Dataset manipulation\n",
    "    *   Main pipeline\n",
    "*   Author\n"
   ]
  },
  {
   "cell_type": "markdown",
   "metadata": {
    "id": "S4t5rpwITThQ"
   },
   "source": [
    "***\n"
   ]
  },
  {
   "cell_type": "markdown",
   "metadata": {
    "id": "KoNAvKmglBm-"
   },
   "source": [
    "## Theory and Methods\n"
   ]
  },
  {
   "cell_type": "markdown",
   "metadata": {
    "id": "ZOgyr5RSlI40"
   },
   "source": [
    "The data that we are going to use for this is a subset of an open source default of `Intrusion detection evaluation dataset` (ISCXIDS2012) from the the Canadian Institute for Cybersecurity repository: [https://www.unb.ca/cic/datasets/ids.html](https://www.unb.ca/cic/datasets/ids.html?utm_medium=Exinfluencer&utm_source=Exinfluencer&utm_content=000026UJ&utm_term=10006555&utm_id=NA-SkillsNetwork-Channel-SkillsNetworkQuickLabsAdvanced_ML_anomaly_detection_L327574471-2022-01-01). In order to download this dataset, you have to pass a short registration.\n",
    "\n",
    "> The intend for this dataset is to assist various researchers in acquiring datasets of this kind for testing, evaluation, and comparison purposes, through sharing the generated datasets and profiles. The full research paper outlining the details of the dataset and its underlying principles. Please include this citation if you plan to use this database:\n",
    "\n",
    "> Ali Shiravi, Hadi Shiravi, Mahbod Tavallaee, Ali A. Ghorbani, Toward developing a systematic approach to generate benchmark datasets for intrusion detection, Computers & Security, Volume 31, Issue 3, May 2012, Pages 357-374, ISSN 0167-4048, 10.1016/j.cose.2011.12.012.\n",
    "\n",
    "During the work, you will know about the [anomaly detection task](https://en.wikipedia.org/wiki/Anomaly_detection?utm_medium=Exinfluencer&utm_source=Exinfluencer&utm_content=000026UJ&utm_term=10006555&utm_id=NA-SkillsNetwork-Channel-SkillsNetworkQuickLabsAdvanced_ML_anomaly_detection_L327574471-2022-01-01) which is the main machine learning task solved by different algorithms correlating to the identification of rare items, events or observations which raise suspicions by differing significantly from the majority of the data. In essence, anomaly detection can be used as a tool for many other tasks, such as intrusion detection, fraud detection, fault detection, system health monitoring, event detection in sensor networks, detecting ecosystem disturbances, and defect detection in images using machine vision, etc.\n",
    "\n",
    "Moreover, you will be provided `12` files of data. You should select one among them. Training some of them by `.fit` method takes a lot of time, so you can select not all the data files. In addition, you should select some values of hyperparameters in this Lab, and the Lab execution duration will depend on your choice.\n",
    "\n",
    "Anomaly detection has three broad categories based on anomaly detection techniques: unsupervised, supervised and semi-supervised anomaly detection.\n",
    "\n",
    "In addition, we will build the visualization of our results, exactly the obtained metrics (accuracy and loss) to choose the best model for further saving and predicting based on this saved model.\n"
   ]
  },
  {
   "cell_type": "markdown",
   "metadata": {
    "id": "xS8UOiQOTThR"
   },
   "source": [
    "## Import required libraries and dataset\n"
   ]
  },
  {
   "cell_type": "markdown",
   "metadata": {
    "id": "-BnB2tiSZh4R"
   },
   "source": [
    "Alternative URL for downloading of the dataset.\n"
   ]
  },
  {
   "cell_type": "code",
   "execution_count": 1,
   "metadata": {
    "id": "ORfD1EUiZuLK",
    "tags": []
   },
   "outputs": [
    {
     "name": "stdout",
     "output_type": "stream",
     "text": [
      "--2023-12-26 00:38:28--  https://cf-courses-data.s3.us.cloud-object-storage.appdomain.cloud/Advanced_ML_anomaly_detection_L3/DataSets.zip\n",
      "Resolving cf-courses-data.s3.us.cloud-object-storage.appdomain.cloud (cf-courses-data.s3.us.cloud-object-storage.appdomain.cloud)... 169.63.118.104, 169.63.118.104\n",
      "Connecting to cf-courses-data.s3.us.cloud-object-storage.appdomain.cloud (cf-courses-data.s3.us.cloud-object-storage.appdomain.cloud)|169.63.118.104|:443... connected.\n",
      "HTTP request sent, awaiting response... 200 OK\n",
      "Length: 402533304 (384M) [application/zip]\n",
      "Saving to: ‘DataSets.zip’\n",
      "\n",
      "DataSets.zip        100%[===================>] 383.88M  33.5MB/s    in 12s     \n",
      "\n",
      "2023-12-26 00:38:42 (32.1 MB/s) - ‘DataSets.zip’ saved [402533304/402533304]\n",
      "\n"
     ]
    }
   ],
   "source": [
    "!wget https://cf-courses-data.s3.us.cloud-object-storage.appdomain.cloud/Advanced_ML_anomaly_detection_L3/DataSets.zip"
   ]
  },
  {
   "cell_type": "markdown",
   "metadata": {
    "id": "eGH5DhdLHmOp"
   },
   "source": [
    "Import the necessary libraries to use in this lab. We can add some aliases (such as pd, plt, np, tf) to make the libraries easier to use in our code and set a default figure size for further plots. Ignore the warnings.\n"
   ]
  },
  {
   "cell_type": "code",
   "execution_count": 2,
   "metadata": {
    "id": "ILNW-o17MX9Y",
    "tags": []
   },
   "outputs": [
    {
     "name": "stdout",
     "output_type": "stream",
     "text": [
      "Collecting gensim\n",
      "  Downloading gensim-4.2.0-cp37-cp37m-manylinux_2_12_x86_64.manylinux2010_x86_64.whl (24.1 MB)\n",
      "\u001b[2K     \u001b[90m━━━━━━━━━━━━━━━━━━━━━━━━━━━━━━━━━━━━━━━━\u001b[0m \u001b[32m24.1/24.1 MB\u001b[0m \u001b[31m56.1 MB/s\u001b[0m eta \u001b[36m0:00:00\u001b[0m00:01\u001b[0m00:01\u001b[0m\n",
      "\u001b[?25hRequirement already satisfied: numpy>=1.17.0 in /home/jupyterlab/conda/envs/python/lib/python3.7/site-packages (from gensim) (1.21.6)\n",
      "Requirement already satisfied: scipy>=0.18.1 in /home/jupyterlab/conda/envs/python/lib/python3.7/site-packages (from gensim) (1.7.3)\n",
      "Collecting smart-open>=1.8.1 (from gensim)\n",
      "  Downloading smart_open-6.4.0-py3-none-any.whl (57 kB)\n",
      "\u001b[2K     \u001b[90m━━━━━━━━━━━━━━━━━━━━━━━━━━━━━━━━━━━━━━━━\u001b[0m \u001b[32m57.0/57.0 kB\u001b[0m \u001b[31m9.1 MB/s\u001b[0m eta \u001b[36m0:00:00\u001b[0m\n",
      "\u001b[?25hInstalling collected packages: smart-open, gensim\n",
      "Successfully installed gensim-4.2.0 smart-open-6.4.0\n",
      "Collecting python-Levenshtein\n",
      "  Downloading python_Levenshtein-0.23.0-py3-none-any.whl (9.4 kB)\n",
      "Collecting Levenshtein==0.23.0 (from python-Levenshtein)\n",
      "  Downloading Levenshtein-0.23.0-cp37-cp37m-manylinux_2_17_x86_64.manylinux2014_x86_64.whl (170 kB)\n",
      "\u001b[2K     \u001b[90m━━━━━━━━━━━━━━━━━━━━━━━━━━━━━━━━━━━━━━\u001b[0m \u001b[32m170.8/170.8 kB\u001b[0m \u001b[31m28.3 MB/s\u001b[0m eta \u001b[36m0:00:00\u001b[0m\n",
      "\u001b[?25hCollecting rapidfuzz<4.0.0,>=3.1.0 (from Levenshtein==0.23.0->python-Levenshtein)\n",
      "  Downloading rapidfuzz-3.4.0-cp37-cp37m-manylinux_2_17_x86_64.manylinux2014_x86_64.whl (3.2 MB)\n",
      "\u001b[2K     \u001b[90m━━━━━━━━━━━━━━━━━━━━━━━━━━━━━━━━━━━━━━━━\u001b[0m \u001b[32m3.2/3.2 MB\u001b[0m \u001b[31m84.5 MB/s\u001b[0m eta \u001b[36m0:00:00\u001b[0m:00:01\u001b[0m\n",
      "\u001b[?25hInstalling collected packages: rapidfuzz, Levenshtein, python-Levenshtein\n",
      "Successfully installed Levenshtein-0.23.0 python-Levenshtein-0.23.0 rapidfuzz-3.4.0\n",
      "Collecting tensorflow==2.4\n",
      "  Downloading tensorflow-2.4.0-cp37-cp37m-manylinux2010_x86_64.whl (394.7 MB)\n",
      "\u001b[2K     \u001b[90m━━━━━━━━━━━━━━━━━━━━━━━━━━━━━━━━━━━━━━━\u001b[0m \u001b[32m394.7/394.7 MB\u001b[0m \u001b[31m1.2 MB/s\u001b[0m eta \u001b[36m0:00:00\u001b[0m00:01\u001b[0m00:01\u001b[0m\n",
      "\u001b[?25hCollecting absl-py~=0.10 (from tensorflow==2.4)\n",
      "  Downloading absl_py-0.15.0-py3-none-any.whl (132 kB)\n",
      "\u001b[2K     \u001b[90m━━━━━━━━━━━━━━━━━━━━━━━━━━━━━━━━━━━━━━\u001b[0m \u001b[32m132.0/132.0 kB\u001b[0m \u001b[31m25.4 MB/s\u001b[0m eta \u001b[36m0:00:00\u001b[0m\n",
      "\u001b[?25hCollecting astunparse~=1.6.3 (from tensorflow==2.4)\n",
      "  Downloading astunparse-1.6.3-py2.py3-none-any.whl (12 kB)\n",
      "Collecting flatbuffers~=1.12.0 (from tensorflow==2.4)\n",
      "  Downloading flatbuffers-1.12-py2.py3-none-any.whl (15 kB)\n",
      "Requirement already satisfied: google-pasta~=0.2 in /home/jupyterlab/conda/envs/python/lib/python3.7/site-packages (from tensorflow==2.4) (0.2.0)\n",
      "Collecting h5py~=2.10.0 (from tensorflow==2.4)\n",
      "  Downloading h5py-2.10.0-cp37-cp37m-manylinux1_x86_64.whl (2.9 MB)\n",
      "\u001b[2K     \u001b[90m━━━━━━━━━━━━━━━━━━━━━━━━━━━━━━━━━━━━━━━━\u001b[0m \u001b[32m2.9/2.9 MB\u001b[0m \u001b[31m75.6 MB/s\u001b[0m eta \u001b[36m0:00:00\u001b[0m:00:01\u001b[0m\n",
      "\u001b[?25hRequirement already satisfied: keras-preprocessing~=1.1.2 in /home/jupyterlab/conda/envs/python/lib/python3.7/site-packages (from tensorflow==2.4) (1.1.2)\n",
      "Collecting numpy~=1.19.2 (from tensorflow==2.4)\n",
      "  Downloading numpy-1.19.5-cp37-cp37m-manylinux2010_x86_64.whl (14.8 MB)\n",
      "\u001b[2K     \u001b[90m━━━━━━━━━━━━━━━━━━━━━━━━━━━━━━━━━━━━━━━━\u001b[0m \u001b[32m14.8/14.8 MB\u001b[0m \u001b[31m62.7 MB/s\u001b[0m eta \u001b[36m0:00:00\u001b[0m00:01\u001b[0m00:01\u001b[0m\n",
      "\u001b[?25hCollecting opt-einsum~=3.3.0 (from tensorflow==2.4)\n",
      "  Downloading opt_einsum-3.3.0-py3-none-any.whl (65 kB)\n",
      "\u001b[2K     \u001b[90m━━━━━━━━━━━━━━━━━━━━━━━━━━━━━━━━━━━━━━━━\u001b[0m \u001b[32m65.5/65.5 kB\u001b[0m \u001b[31m13.9 MB/s\u001b[0m eta \u001b[36m0:00:00\u001b[0m\n",
      "\u001b[?25hRequirement already satisfied: protobuf>=3.9.2 in /home/jupyterlab/conda/envs/python/lib/python3.7/site-packages (from tensorflow==2.4) (4.21.8)\n",
      "Collecting six~=1.15.0 (from tensorflow==2.4)\n",
      "  Downloading six-1.15.0-py2.py3-none-any.whl (10 kB)\n",
      "Collecting termcolor~=1.1.0 (from tensorflow==2.4)\n",
      "  Downloading termcolor-1.1.0.tar.gz (3.9 kB)\n",
      "  Preparing metadata (setup.py) ... \u001b[?25ldone\n",
      "\u001b[?25hCollecting typing-extensions~=3.7.4 (from tensorflow==2.4)\n",
      "  Downloading typing_extensions-3.7.4.3-py3-none-any.whl (22 kB)\n",
      "Requirement already satisfied: wheel~=0.35 in /home/jupyterlab/conda/envs/python/lib/python3.7/site-packages (from tensorflow==2.4) (0.40.0)\n",
      "Collecting wrapt~=1.12.1 (from tensorflow==2.4)\n",
      "  Downloading wrapt-1.12.1.tar.gz (27 kB)\n",
      "  Preparing metadata (setup.py) ... \u001b[?25ldone\n",
      "\u001b[?25hCollecting gast==0.3.3 (from tensorflow==2.4)\n",
      "  Downloading gast-0.3.3-py2.py3-none-any.whl (9.7 kB)\n",
      "Collecting tensorboard~=2.4 (from tensorflow==2.4)\n",
      "  Downloading tensorboard-2.11.2-py3-none-any.whl (6.0 MB)\n",
      "\u001b[2K     \u001b[90m━━━━━━━━━━━━━━━━━━━━━━━━━━━━━━━━━━━━━━━━\u001b[0m \u001b[32m6.0/6.0 MB\u001b[0m \u001b[31m80.4 MB/s\u001b[0m eta \u001b[36m0:00:00\u001b[0m:00:01\u001b[0m00:01\u001b[0m\n",
      "\u001b[?25hCollecting tensorflow-estimator<2.5.0,>=2.4.0rc0 (from tensorflow==2.4)\n",
      "  Downloading tensorflow_estimator-2.4.0-py2.py3-none-any.whl (462 kB)\n",
      "\u001b[2K     \u001b[90m━━━━━━━━━━━━━━━━━━━━━━━━━━━━━━━━━━━━━━\u001b[0m \u001b[32m462.0/462.0 kB\u001b[0m \u001b[31m34.7 MB/s\u001b[0m eta \u001b[36m0:00:00\u001b[0m\n",
      "\u001b[?25hCollecting grpcio~=1.32.0 (from tensorflow==2.4)\n",
      "  Downloading grpcio-1.32.0-cp37-cp37m-manylinux2014_x86_64.whl (3.8 MB)\n",
      "\u001b[2K     \u001b[90m━━━━━━━━━━━━━━━━━━━━━━━━━━━━━━━━━━━━━━━━\u001b[0m \u001b[32m3.8/3.8 MB\u001b[0m \u001b[31m93.5 MB/s\u001b[0m eta \u001b[36m0:00:00\u001b[0m:00:01\u001b[0m\n",
      "\u001b[?25hCollecting google-auth<3,>=1.6.3 (from tensorboard~=2.4->tensorflow==2.4)\n",
      "  Downloading google_auth-2.25.2-py2.py3-none-any.whl (184 kB)\n",
      "\u001b[2K     \u001b[90m━━━━━━━━━━━━━━━━━━━━━━━━━━━━━━━━━━━━━━\u001b[0m \u001b[32m184.2/184.2 kB\u001b[0m \u001b[31m29.4 MB/s\u001b[0m eta \u001b[36m0:00:00\u001b[0m\n",
      "\u001b[?25hCollecting google-auth-oauthlib<0.5,>=0.4.1 (from tensorboard~=2.4->tensorflow==2.4)\n",
      "  Downloading google_auth_oauthlib-0.4.6-py2.py3-none-any.whl (18 kB)\n",
      "Requirement already satisfied: markdown>=2.6.8 in /home/jupyterlab/conda/envs/python/lib/python3.7/site-packages (from tensorboard~=2.4->tensorflow==2.4) (3.4.3)\n",
      "Collecting protobuf>=3.9.2 (from tensorflow==2.4)\n",
      "  Downloading protobuf-3.20.3-cp37-cp37m-manylinux_2_5_x86_64.manylinux1_x86_64.whl (1.0 MB)\n",
      "\u001b[2K     \u001b[90m━━━━━━━━━━━━━━━━━━━━━━━━━━━━━━━━━━━━━━━━\u001b[0m \u001b[32m1.0/1.0 MB\u001b[0m \u001b[31m70.6 MB/s\u001b[0m eta \u001b[36m0:00:00\u001b[0m\n",
      "\u001b[?25hRequirement already satisfied: requests<3,>=2.21.0 in /home/jupyterlab/conda/envs/python/lib/python3.7/site-packages (from tensorboard~=2.4->tensorflow==2.4) (2.29.0)\n",
      "Requirement already satisfied: setuptools>=41.0.0 in /home/jupyterlab/conda/envs/python/lib/python3.7/site-packages (from tensorboard~=2.4->tensorflow==2.4) (67.7.2)\n",
      "Collecting tensorboard-data-server<0.7.0,>=0.6.0 (from tensorboard~=2.4->tensorflow==2.4)\n",
      "  Downloading tensorboard_data_server-0.6.1-py3-none-manylinux2010_x86_64.whl (4.9 MB)\n",
      "\u001b[2K     \u001b[90m━━━━━━━━━━━━━━━━━━━━━━━━━━━━━━━━━━━━━━━━\u001b[0m \u001b[32m4.9/4.9 MB\u001b[0m \u001b[31m93.6 MB/s\u001b[0m eta \u001b[36m0:00:00\u001b[0m:00:01\u001b[0m\n",
      "\u001b[?25hCollecting tensorboard-plugin-wit>=1.6.0 (from tensorboard~=2.4->tensorflow==2.4)\n",
      "  Downloading tensorboard_plugin_wit-1.8.1-py3-none-any.whl (781 kB)\n",
      "\u001b[2K     \u001b[90m━━━━━━━━━━━━━━━━━━━━━━━━━━━━━━━━━━━━━━\u001b[0m \u001b[32m781.3/781.3 kB\u001b[0m \u001b[31m62.6 MB/s\u001b[0m eta \u001b[36m0:00:00\u001b[0m\n",
      "\u001b[?25hRequirement already satisfied: werkzeug>=1.0.1 in /home/jupyterlab/conda/envs/python/lib/python3.7/site-packages (from tensorboard~=2.4->tensorflow==2.4) (2.2.3)\n",
      "Collecting cachetools<6.0,>=2.0.0 (from google-auth<3,>=1.6.3->tensorboard~=2.4->tensorflow==2.4)\n",
      "  Downloading cachetools-5.3.2-py3-none-any.whl (9.3 kB)\n",
      "Requirement already satisfied: pyasn1-modules>=0.2.1 in /home/jupyterlab/conda/envs/python/lib/python3.7/site-packages (from google-auth<3,>=1.6.3->tensorboard~=2.4->tensorflow==2.4) (0.3.0)\n",
      "Collecting rsa<5,>=3.1.4 (from google-auth<3,>=1.6.3->tensorboard~=2.4->tensorflow==2.4)\n",
      "  Downloading rsa-4.9-py3-none-any.whl (34 kB)\n",
      "Collecting requests-oauthlib>=0.7.0 (from google-auth-oauthlib<0.5,>=0.4.1->tensorboard~=2.4->tensorflow==2.4)\n",
      "  Downloading requests_oauthlib-1.3.1-py2.py3-none-any.whl (23 kB)\n",
      "Requirement already satisfied: importlib-metadata>=4.4 in /home/jupyterlab/conda/envs/python/lib/python3.7/site-packages (from markdown>=2.6.8->tensorboard~=2.4->tensorflow==2.4) (4.11.4)\n",
      "Requirement already satisfied: charset-normalizer<4,>=2 in /home/jupyterlab/conda/envs/python/lib/python3.7/site-packages (from requests<3,>=2.21.0->tensorboard~=2.4->tensorflow==2.4) (3.1.0)\n",
      "Requirement already satisfied: idna<4,>=2.5 in /home/jupyterlab/conda/envs/python/lib/python3.7/site-packages (from requests<3,>=2.21.0->tensorboard~=2.4->tensorflow==2.4) (3.4)\n",
      "Requirement already satisfied: urllib3<1.27,>=1.21.1 in /home/jupyterlab/conda/envs/python/lib/python3.7/site-packages (from requests<3,>=2.21.0->tensorboard~=2.4->tensorflow==2.4) (1.26.15)\n",
      "Requirement already satisfied: certifi>=2017.4.17 in /home/jupyterlab/conda/envs/python/lib/python3.7/site-packages (from requests<3,>=2.21.0->tensorboard~=2.4->tensorflow==2.4) (2023.5.7)\n",
      "Requirement already satisfied: MarkupSafe>=2.1.1 in /home/jupyterlab/conda/envs/python/lib/python3.7/site-packages (from werkzeug>=1.0.1->tensorboard~=2.4->tensorflow==2.4) (2.1.1)\n",
      "Requirement already satisfied: zipp>=0.5 in /home/jupyterlab/conda/envs/python/lib/python3.7/site-packages (from importlib-metadata>=4.4->markdown>=2.6.8->tensorboard~=2.4->tensorflow==2.4) (3.15.0)\n",
      "Requirement already satisfied: pyasn1<0.6.0,>=0.4.6 in /home/jupyterlab/conda/envs/python/lib/python3.7/site-packages (from pyasn1-modules>=0.2.1->google-auth<3,>=1.6.3->tensorboard~=2.4->tensorflow==2.4) (0.5.0)\n",
      "Collecting oauthlib>=3.0.0 (from requests-oauthlib>=0.7.0->google-auth-oauthlib<0.5,>=0.4.1->tensorboard~=2.4->tensorflow==2.4)\n",
      "  Downloading oauthlib-3.2.2-py3-none-any.whl (151 kB)\n",
      "\u001b[2K     \u001b[90m━━━━━━━━━━━━━━━━━━━━━━━━━━━━━━━━━━━━━━\u001b[0m \u001b[32m151.7/151.7 kB\u001b[0m \u001b[31m26.7 MB/s\u001b[0m eta \u001b[36m0:00:00\u001b[0m\n",
      "\u001b[?25hBuilding wheels for collected packages: termcolor, wrapt\n",
      "  Building wheel for termcolor (setup.py) ... \u001b[?25ldone\n",
      "\u001b[?25h  Created wheel for termcolor: filename=termcolor-1.1.0-py3-none-any.whl size=4832 sha256=29e5d7ebde1f1059a36819084c385edd811ac513b67147cf9667c68c174c5a39\n",
      "  Stored in directory: /home/jupyterlab/.cache/pip/wheels/3f/e3/ec/8a8336ff196023622fbcb36de0c5a5c218cbb24111d1d4c7f2\n",
      "  Building wheel for wrapt (setup.py) ... \u001b[?25ldone\n",
      "\u001b[?25h  Created wheel for wrapt: filename=wrapt-1.12.1-cp37-cp37m-linux_x86_64.whl size=36029 sha256=9f044ecb181cce23da7ac6b1c606cb22bb9b34be78c4742a54225cb62256d248\n",
      "  Stored in directory: /home/jupyterlab/.cache/pip/wheels/62/76/4c/aa25851149f3f6d9785f6c869387ad82b3fd37582fa8147ac6\n",
      "Successfully built termcolor wrapt\n",
      "Installing collected packages: wrapt, typing-extensions, termcolor, tensorflow-estimator, tensorboard-plugin-wit, flatbuffers, tensorboard-data-server, six, rsa, protobuf, oauthlib, numpy, gast, cachetools, requests-oauthlib, opt-einsum, h5py, grpcio, google-auth, astunparse, absl-py, google-auth-oauthlib, tensorboard, tensorflow\n",
      "  Attempting uninstall: wrapt\n",
      "    Found existing installation: wrapt 1.14.1\n",
      "    Uninstalling wrapt-1.14.1:\n",
      "      Successfully uninstalled wrapt-1.14.1\n",
      "  Attempting uninstall: typing-extensions\n",
      "    Found existing installation: typing_extensions 4.5.0\n",
      "    Uninstalling typing_extensions-4.5.0:\n",
      "      Successfully uninstalled typing_extensions-4.5.0\n",
      "  Attempting uninstall: termcolor\n",
      "    Found existing installation: termcolor 2.3.0\n",
      "    Uninstalling termcolor-2.3.0:\n",
      "      Successfully uninstalled termcolor-2.3.0\n",
      "  Attempting uninstall: tensorflow-estimator\n",
      "    Found existing installation: tensorflow-estimator 1.14.0\n",
      "    Uninstalling tensorflow-estimator-1.14.0:\n",
      "      Successfully uninstalled tensorflow-estimator-1.14.0\n",
      "  Attempting uninstall: six\n",
      "    Found existing installation: six 1.16.0\n",
      "    Uninstalling six-1.16.0:\n",
      "      Successfully uninstalled six-1.16.0\n",
      "  Attempting uninstall: protobuf\n",
      "    Found existing installation: protobuf 4.21.8\n",
      "    Uninstalling protobuf-4.21.8:\n",
      "      Successfully uninstalled protobuf-4.21.8\n",
      "  Attempting uninstall: numpy\n",
      "    Found existing installation: numpy 1.21.6\n",
      "    Uninstalling numpy-1.21.6:\n",
      "      Successfully uninstalled numpy-1.21.6\n",
      "  Attempting uninstall: gast\n",
      "    Found existing installation: gast 0.5.3\n",
      "    Uninstalling gast-0.5.3:\n",
      "      Successfully uninstalled gast-0.5.3\n",
      "  Attempting uninstall: h5py\n",
      "    Found existing installation: h5py 2.8.0\n",
      "    Uninstalling h5py-2.8.0:\n",
      "      Successfully uninstalled h5py-2.8.0\n",
      "  Attempting uninstall: grpcio\n",
      "    Found existing installation: grpcio 1.48.1\n",
      "    Uninstalling grpcio-1.48.1:\n",
      "      Successfully uninstalled grpcio-1.48.1\n",
      "  Attempting uninstall: absl-py\n",
      "    Found existing installation: absl-py 1.4.0\n",
      "    Uninstalling absl-py-1.4.0:\n",
      "      Successfully uninstalled absl-py-1.4.0\n",
      "  Attempting uninstall: tensorboard\n",
      "    Found existing installation: tensorboard 1.14.0\n",
      "    Uninstalling tensorboard-1.14.0:\n",
      "      Successfully uninstalled tensorboard-1.14.0\n",
      "  Attempting uninstall: tensorflow\n",
      "    Found existing installation: tensorflow 1.14.0\n",
      "    Uninstalling tensorflow-1.14.0:\n",
      "      Successfully uninstalled tensorflow-1.14.0\n",
      "\u001b[31mERROR: pip's dependency resolver does not currently take into account all the packages that are installed. This behaviour is the source of the following dependency conflicts.\n",
      "rich 13.3.5 requires typing-extensions<5.0,>=4.0.0; python_version < \"3.9\", but you have typing-extensions 3.7.4.3 which is incompatible.\u001b[0m\u001b[31m\n",
      "\u001b[0mSuccessfully installed absl-py-0.15.0 astunparse-1.6.3 cachetools-5.3.2 flatbuffers-1.12 gast-0.3.3 google-auth-2.25.2 google-auth-oauthlib-0.4.6 grpcio-1.32.0 h5py-2.10.0 numpy-1.19.5 oauthlib-3.2.2 opt-einsum-3.3.0 protobuf-3.20.3 requests-oauthlib-1.3.1 rsa-4.9 six-1.15.0 tensorboard-2.11.2 tensorboard-data-server-0.6.1 tensorboard-plugin-wit-1.8.1 tensorflow-2.4.0 tensorflow-estimator-2.4.0 termcolor-1.1.0 typing-extensions-3.7.4.3 wrapt-1.12.1\n"
     ]
    }
   ],
   "source": [
    "!pip install gensim\n",
    "!pip install python-Levenshtein\n",
    "!pip install tensorflow==2.4"
   ]
  },
  {
   "cell_type": "code",
   "execution_count": 3,
   "metadata": {
    "id": "jdVcijxmTTha",
    "tags": []
   },
   "outputs": [
    {
     "name": "stderr",
     "output_type": "stream",
     "text": [
      "2023-12-26 00:39:59.998178: W tensorflow/stream_executor/platform/default/dso_loader.cc:60] Could not load dynamic library 'libcudart.so.11.0'; dlerror: libcudart.so.11.0: cannot open shared object file: No such file or directory\n",
      "2023-12-26 00:39:59.998251: I tensorflow/stream_executor/cuda/cudart_stub.cc:29] Ignore above cudart dlerror if you do not have a GPU set up on your machine.\n",
      "/home/jupyterlab/conda/envs/python/lib/python3.7/site-packages/sklearn/utils/validation.py:37: DeprecationWarning: distutils Version classes are deprecated. Use packaging.version instead.\n",
      "  LARGE_SPARSE_SUPPORTED = LooseVersion(scipy_version) >= '0.14.0'\n",
      "Using TensorFlow backend.\n"
     ]
    }
   ],
   "source": [
    "import numpy as np\n",
    "import pandas as pd\n",
    "import tensorflow as tf\n",
    "import matplotlib.pyplot as plt\n",
    "import xml.etree.ElementTree as ElTree\n",
    "import re, h5py, itertools, math, glob, zipfile, os\n",
    "from sklearn.preprocessing import LabelEncoder, OneHotEncoder\n",
    "from sklearn.metrics import log_loss, auc, roc_curve\n",
    "from tensorflow.keras import layers\n",
    "from keras.layers.core import Masking\n",
    "from tensorflow.keras.layers import Dense, LSTM, Dropout, Embedding, TimeDistributed\n",
    "from keras.layers.wrappers import Bidirectional\n",
    "from tensorflow.keras.models import Model, Sequential, load_model\n",
    "from keras.utils import np_utils\n",
    "from tensorflow.python.client import device_lib\n",
    "from lxml import etree\n",
    "from gensim.models import Word2Vec\n",
    "\n",
    "# %matplotlib inline\n",
    "plt.rcParams['figure.figsize'] = (15, 5)\n",
    "plt.style.use('ggplot')\n",
    "seed = 42\n",
    "\n",
    "import warnings\n",
    "warnings.filterwarnings(action = \"ignore\")"
   ]
  },
  {
   "cell_type": "markdown",
   "metadata": {
    "id": "Odfp7MOVWLKQ"
   },
   "source": [
    "## Some additional & preparative actions\n"
   ]
  },
  {
   "cell_type": "markdown",
   "metadata": {
    "id": "evtbog-C13Z2"
   },
   "source": [
    "Specify the value of the `precision` parameter equal to 3 to display three decimal signs (instead of 6 as default).\n"
   ]
  },
  {
   "cell_type": "code",
   "execution_count": 4,
   "metadata": {
    "id": "nwMoaJLV13Z3",
    "tags": []
   },
   "outputs": [],
   "source": [
    "pd.set_option(\"precision\", 3)\n",
    "pd.options.display.float_format = '{:.3f}'.format"
   ]
  },
  {
   "cell_type": "markdown",
   "metadata": {
    "id": "bW7wprNfJprA"
   },
   "source": [
    "Add some functions and one class that you will need further.\n"
   ]
  },
  {
   "cell_type": "code",
   "execution_count": 5,
   "metadata": {
    "id": "xlvlUEQ2PaKz",
    "tags": []
   },
   "outputs": [],
   "source": [
    "def plot_history(history):\n",
    "    loss_list = [s for s in history.history.keys() if 'loss' in s and 'val' not in s]\n",
    "    val_loss_list = [s for s in history.history.keys() if 'loss' in s and 'val' in s]\n",
    "    acc_list = [s for s in history.history.keys() if 'accuracy' in s and 'val' not in s]\n",
    "    val_acc_list = [s for s in history.history.keys() if 'accuracy' in s and 'val' in s]\n",
    "    \n",
    "    plt.figure(figsize = (12, 5), dpi = 100)\n",
    "    COLOR = 'gray'\n",
    "    \n",
    "    plt.rc('legend', fontsize = 14)   # legend fontsize\n",
    "    plt.rc('figure', titlesize = 12)  # fontsize of the figure title\n",
    "        \n",
    "    if len(loss_list) == 0:\n",
    "        print('Loss is missing in history')\n",
    "        return \n",
    "    \n",
    "    ## As loss always exists\n",
    "    epochs = range(1, len(history.history[loss_list[0]]) + 1)\n",
    "    \n",
    "    ## Loss\n",
    "    plt.subplot(1, 2, 1)\n",
    "    plt.subplots_adjust(wspace = 2, hspace = 2)\n",
    "    plt.rcParams['text.color'] = 'black'\n",
    "    plt.rcParams['axes.titlecolor'] = 'black'\n",
    "    plt.rcParams['axes.labelcolor'] = COLOR\n",
    "    plt.rcParams['xtick.color'] = COLOR\n",
    "    plt.rcParams['ytick.color'] = COLOR\n",
    "    for l in loss_list:\n",
    "        plt.plot(epochs, history.history[l], 'b-o',\n",
    "                 label = 'Train (' + str(str(format(history.history[l][-1],'.4f'))+')'))\n",
    "    for l in val_loss_list:\n",
    "        plt.plot(epochs, history.history[l], 'g',\n",
    "                 label = 'Valid (' + str(str(format(history.history[l][-1],'.4f'))+')'))\n",
    "    \n",
    "    plt.title('Loss')\n",
    "    plt.xlabel('Epochs')\n",
    "    plt.legend(facecolor = 'gray', loc = 'best')\n",
    "    plt.grid(True)\n",
    "    plt.tight_layout()\n",
    "    \n",
    "    ## Accuracy\n",
    "    plt.subplot(1, 2, 2)\n",
    "    plt.subplots_adjust(wspace = 2, hspace = 2)\n",
    "    plt.rcParams['text.color'] = 'black'\n",
    "    plt.rcParams['axes.titlecolor'] = 'black'\n",
    "    plt.rcParams['axes.labelcolor'] = COLOR\n",
    "    plt.rcParams['xtick.color'] = COLOR\n",
    "    plt.rcParams['ytick.color'] = COLOR\n",
    "    for l in acc_list:\n",
    "        plt.plot(epochs, history.history[l], 'b-o',\n",
    "                 label = 'Train (' + str(format(history.history[l][-1],'.4f'))+')')\n",
    "    for l in val_acc_list:    \n",
    "        plt.plot(epochs, history.history[l], 'g',\n",
    "                 label = 'Valid (' + str(format(history.history[l][-1],'.4f'))+')')\n",
    "\n",
    "    plt.title('Accuracy')\n",
    "    plt.xlabel('Epochs')\n",
    "    plt.legend(facecolor = 'gray', loc = 'best')\n",
    "    plt.grid(True)\n",
    "    plt.tight_layout()\n",
    "    plt.show()\n",
    "\n",
    "class B_Generator(object):\n",
    "    def __init__(self, BZ, XX, YY, ohe):\n",
    "        self.BZ = BZ\n",
    "        self.n_b = int(math.floor(np.shape(XX)[0] / BZ))\n",
    "        self.b_index = [a * BZ for a in range(0, self.n_b)]\n",
    "        self.XX = XX\n",
    "        self.YY = YY\n",
    "        self.ohe = ohe\n",
    "        \n",
    "    def __iter__(self):\n",
    "        for var_0 in itertools.cycle(self.b_index):\n",
    "            YY = self.YY[var_0 : (var_0 + self.BZ)]\n",
    "            ohe_Y = self.ohe.transform(YY.reshape(len(YY), 1))\n",
    "            yield (self.XX[var_0 : (var_0 + self.BZ),], ohe_Y)"
   ]
  },
  {
   "cell_type": "markdown",
   "metadata": {
    "id": "SbmrZguMTThd"
   },
   "source": [
    "## Reading the Dataset\n"
   ]
  },
  {
   "cell_type": "markdown",
   "metadata": {
    "id": "EvMGO3m4TThd"
   },
   "source": [
    "In this section, you will unzip only `1(one)` file from the archive with datasets using its number that you will enter below.\n",
    "\n",
    "The file number has to be in a range from `0` to `11`, because this archive has `12` files for your experiments, but you need to choose only `1 (one)`.\n",
    "\n",
    "Replace (input a file number in a ZIP archive) `##YOUR CODE GOES HERE##` with your Python code.\n"
   ]
  },
  {
   "cell_type": "code",
   "execution_count": 6,
   "metadata": {
    "id": "-tW2bcLSr86z",
    "tags": []
   },
   "outputs": [
    {
     "name": "stdout",
     "output_type": "stream",
     "text": [
      "File TestbedThuJun17-2Flows.xml has been read\n"
     ]
    }
   ],
   "source": [
    "number = 4\n",
    "\n",
    "if zipfile.is_zipfile('DataSets.zip'):\n",
    "  file_1 = zipfile.ZipFile('DataSets.zip', 'r')\n",
    "else:\n",
    "  print('Type file isn`t ZIP')\n",
    "\n",
    "name_dataset = file_1.namelist()[number]\n",
    "file_1.extract(name_dataset)\n",
    "print(\"File\", name_dataset, \"has been read\")"
   ]
  },
  {
   "cell_type": "markdown",
   "metadata": {
    "id": "ViO_fR3jW7U4"
   },
   "source": [
    "## Dataset manipulations\n"
   ]
  },
  {
   "cell_type": "markdown",
   "metadata": {
    "id": "i11NJD1vKIv3"
   },
   "source": [
    "This code section will help us to make the following actions:\n",
    "\n",
    "1.  parse the unzipped file of the dataset from XML\n",
    "2.  convert it to `DataFrame` to make it more convenient to use\n",
    "3.  delete some redundant columns from the `DataFrame`\n",
    "4.  check this `DataFrame` for data duplicates\n",
    "5.  sort the values of the dataset\n",
    "6.  add two additional columns\n",
    "7.  rename the columns which have quite long names\n"
   ]
  },
  {
   "cell_type": "code",
   "execution_count": 7,
   "metadata": {
    "id": "rNff39M3D6bj",
    "tags": []
   },
   "outputs": [
    {
     "name": "stdout",
     "output_type": "stream",
     "text": [
      "Preparation process has been finished\n"
     ]
    }
   ],
   "source": [
    "tree_set = ElTree.parse(name_dataset)\n",
    "root_tree_set = tree_set.getroot()\n",
    "\n",
    "result = []\n",
    "var_1 = root_tree_set.items()[0][1][:-4]\n",
    "\n",
    "for item in root_tree_set.findall(var_1):\n",
    "    result.append({node.tag: node.text for node in item.getiterator()})\n",
    "\n",
    "dSET = pd.DataFrame(result)\n",
    "dSET = dSET.drop(dSET.columns[[0]], axis = 1)\n",
    "dSET = dSET.drop_duplicates()\n",
    "\n",
    "dSET = dSET.sort_values('startDateTime')\n",
    "dSET['IPs_sequence'] = dSET['source'] + '_' + dSET['destination'] + '_' + dSET['startDateTime'].str[:13]\n",
    "\n",
    "dSET['res_port'] = np.where(dSET.destinationPort <= dSET.sourcePort,\n",
    "                            dSET['destinationPort'],\n",
    "                            dSET['sourcePort'])\n",
    "\n",
    "# rename some of the columns for more convenience\n",
    "dSET = dSET.rename(columns = {'totalSourceBytes': 'totSB',\n",
    "                        'totalDestinationBytes': 'totDB',\n",
    "                        'totalDestinationPackets': 'totDP',\n",
    "                        'totalSourcePackets': 'totSP',\n",
    "                        'sourcePayloadAsBase64': 'sourB64',\n",
    "                        'sourcePayloadAsUTF': 'sourUTF',\n",
    "                        'destinationPayloadAsBase64': 'destB64',\n",
    "                        'destinationPayloadAsUTF': 'destUTF',\n",
    "                        'direction': 'direct',\n",
    "                        'sourceTCPFlagsDescription': 'sourTCPFd',\n",
    "                        'destinationTCPFlagsDescription': 'destTCPFd',\n",
    "                        'protocolName': 'pName',\n",
    "                        'sourcePort': 'sPort',\n",
    "                        'destination': 'dest',\n",
    "                        'destinationPort': 'dPort'})\n",
    "print(\"Preparation process has been finished\")"
   ]
  },
  {
   "cell_type": "markdown",
   "metadata": {
    "id": "Z0ILuy9O0lOj"
   },
   "source": [
    "### Let's look at the dataset size & feature names\n"
   ]
  },
  {
   "cell_type": "code",
   "execution_count": 8,
   "metadata": {
    "id": "do_MtuN_0mmQ",
    "tags": []
   },
   "outputs": [
    {
     "data": {
      "text/plain": [
       "((149625, 22),\n",
       " Index(['appName', 'totSB', 'totDB', 'totDP', 'totSP', 'sourB64', 'sourUTF',\n",
       "        'destB64', 'destUTF', 'direct', 'sourTCPFd', 'destTCPFd', 'source',\n",
       "        'pName', 'sPort', 'dest', 'dPort', 'startDateTime', 'stopDateTime',\n",
       "        'Tag', 'IPs_sequence', 'res_port'],\n",
       "       dtype='object'))"
      ]
     },
     "execution_count": 8,
     "metadata": {},
     "output_type": "execute_result"
    }
   ],
   "source": [
    "dSET.shape, dSET.columns"
   ]
  },
  {
   "cell_type": "markdown",
   "metadata": {
    "id": "5DBf0FS70v_t"
   },
   "source": [
    "The dataset contains a lot of objects (rows) depending on a selected file, for each of which `20` features are set (columns), including 1 target feature (`Tag`) and two additional columns (`IPs_sequence` and `res_port`).\n"
   ]
  },
  {
   "cell_type": "markdown",
   "metadata": {
    "id": "0SDpd1dxKeq4"
   },
   "source": [
    "Input features (column names):\n",
    "\n",
    "1.  `appName` - name of the application that participated in this data collection.\n",
    "2.  `totalSourceBytes`, `totSB` - the amount of data received in bytes from Source.\n",
    "3.  `totalDestinationBytes`, `totDB` - the amount of data sent in bytes to Destination.\n",
    "4.  `totalDestinationPackets`, `totDP` - the amount of data sent in packets to Destination.\n",
    "5.  `totalSourcePackets`, `totSP` - the amount of data received in packets from Source.\n",
    "6.  `sourcePayloadAsBase64`, `sourB64` - source payload in Base64 code.\n",
    "7.  `sourcePayloadAsUTF`, `sourUTF` - source payload in another UTF-8 (Unicode Transformation Format) 8-bit code.\n",
    "8.  `destinationPayloadAsBase64`, `destB64` - destination payload in Base64 code.\n",
    "9.  `destinationPayloadAsUTF`, `destUTF` – destination payload in another UTF-8 (Unicode Transformation Format) 8-bit code.\n",
    "10. `direction`, `direct` - data transferring direction, for instance, local-to-local (`L2L`), local-to-remote (`L2R`), remote-to-local (`R2L`), remote-to-remote (`R2R`).\n",
    "11. `sourceTCPFlagsDescription`, `sourTCPFd` - sources description of the TCP flags, for instance, `ACKnowledgement`, `A`: flag is used to acknowledge the successful receipt of packets; `Push`, `P` flag, like the `Urgent flag`: exists to ensure that the data is given the priority (that it deserves) and is processed at the sending or receiving end; `Final`, `F` flag: available is the FIN flag, standing for the word FINished, etc.\n",
    "12. `destinationTCPFlagsDescription`, `destTCPFd` - destination description of the TCP flags, description see above.\n",
    "13. `source` – source IP-address.\n",
    "14. `protocolName`, `pName` – name of used protocol.\n",
    "15. `sourcePort`, `sPort` – number of source port.\n",
    "16. `desctination`, `dest` – destination IP-address.\n",
    "17. `desctinationPort`, `dPort` – number of destination port.\n",
    "18. `startDateTime`, `stopDateTime` – date & time of start and stop of data collection process.\n",
    "19. `Tag` – a feature (desired target) value that will be used for prediction.\n"
   ]
  },
  {
   "cell_type": "markdown",
   "metadata": {
    "id": "tNsfcC39IHvj"
   },
   "source": [
    "Let's read the data and look at the first 5 rows using the `head` method. The number of the output rows from the dataset is determined by the `head` method parameter.\n",
    "\n",
    "Replace `##YOUR CODE GOES HERE##` with your Python code.\n"
   ]
  },
  {
   "cell_type": "code",
   "execution_count": 9,
   "metadata": {
    "id": "wetTGQ5XfCLD",
    "tags": []
   },
   "outputs": [
    {
     "data": {
      "text/html": [
       "<div>\n",
       "<style scoped>\n",
       "    .dataframe tbody tr th:only-of-type {\n",
       "        vertical-align: middle;\n",
       "    }\n",
       "\n",
       "    .dataframe tbody tr th {\n",
       "        vertical-align: top;\n",
       "    }\n",
       "\n",
       "    .dataframe thead th {\n",
       "        text-align: right;\n",
       "    }\n",
       "</style>\n",
       "<table border=\"1\" class=\"dataframe\">\n",
       "  <thead>\n",
       "    <tr style=\"text-align: right;\">\n",
       "      <th></th>\n",
       "      <th>appName</th>\n",
       "      <th>totSB</th>\n",
       "      <th>totDB</th>\n",
       "      <th>totDP</th>\n",
       "      <th>totSP</th>\n",
       "      <th>sourB64</th>\n",
       "      <th>sourUTF</th>\n",
       "      <th>destB64</th>\n",
       "      <th>destUTF</th>\n",
       "      <th>direct</th>\n",
       "      <th>...</th>\n",
       "      <th>source</th>\n",
       "      <th>pName</th>\n",
       "      <th>sPort</th>\n",
       "      <th>dest</th>\n",
       "      <th>dPort</th>\n",
       "      <th>startDateTime</th>\n",
       "      <th>stopDateTime</th>\n",
       "      <th>Tag</th>\n",
       "      <th>IPs_sequence</th>\n",
       "      <th>res_port</th>\n",
       "    </tr>\n",
       "  </thead>\n",
       "  <tbody>\n",
       "    <tr>\n",
       "      <th>4205</th>\n",
       "      <td>FTP</td>\n",
       "      <td>38208</td>\n",
       "      <td>1534597</td>\n",
       "      <td>1084</td>\n",
       "      <td>597</td>\n",
       "      <td>None</td>\n",
       "      <td>None</td>\n",
       "      <td>None</td>\n",
       "      <td>None</td>\n",
       "      <td>L2R</td>\n",
       "      <td>...</td>\n",
       "      <td>192.168.2.109</td>\n",
       "      <td>tcp_ip</td>\n",
       "      <td>1263</td>\n",
       "      <td>209.132.183.62</td>\n",
       "      <td>14006</td>\n",
       "      <td>2010-06-17T08:48:36</td>\n",
       "      <td>2010-06-17T09:06:26</td>\n",
       "      <td>Normal</td>\n",
       "      <td>192.168.2.109_209.132.183.62_2010-06-17T08</td>\n",
       "      <td>1263</td>\n",
       "    </tr>\n",
       "    <tr>\n",
       "      <th>3955</th>\n",
       "      <td>FTP</td>\n",
       "      <td>85952</td>\n",
       "      <td>3603138</td>\n",
       "      <td>2541</td>\n",
       "      <td>1343</td>\n",
       "      <td>None</td>\n",
       "      <td>None</td>\n",
       "      <td>None</td>\n",
       "      <td>None</td>\n",
       "      <td>L2R</td>\n",
       "      <td>...</td>\n",
       "      <td>192.168.2.109</td>\n",
       "      <td>tcp_ip</td>\n",
       "      <td>1263</td>\n",
       "      <td>209.132.183.62</td>\n",
       "      <td>14006</td>\n",
       "      <td>2010-06-17T08:48:36</td>\n",
       "      <td>2010-06-17T09:05:59</td>\n",
       "      <td>Normal</td>\n",
       "      <td>192.168.2.109_209.132.183.62_2010-06-17T08</td>\n",
       "      <td>1263</td>\n",
       "    </tr>\n",
       "    <tr>\n",
       "      <th>1114</th>\n",
       "      <td>FTP</td>\n",
       "      <td>91392</td>\n",
       "      <td>3803076</td>\n",
       "      <td>2682</td>\n",
       "      <td>1428</td>\n",
       "      <td>None</td>\n",
       "      <td>None</td>\n",
       "      <td>None</td>\n",
       "      <td>None</td>\n",
       "      <td>L2R</td>\n",
       "      <td>...</td>\n",
       "      <td>192.168.2.109</td>\n",
       "      <td>tcp_ip</td>\n",
       "      <td>1263</td>\n",
       "      <td>209.132.183.62</td>\n",
       "      <td>14006</td>\n",
       "      <td>2010-06-17T08:48:36</td>\n",
       "      <td>2010-06-17T09:00:59</td>\n",
       "      <td>Normal</td>\n",
       "      <td>192.168.2.109_209.132.183.62_2010-06-17T08</td>\n",
       "      <td>1263</td>\n",
       "    </tr>\n",
       "    <tr>\n",
       "      <th>3496</th>\n",
       "      <td>FTP</td>\n",
       "      <td>108288</td>\n",
       "      <td>4575886</td>\n",
       "      <td>3227</td>\n",
       "      <td>1692</td>\n",
       "      <td>None</td>\n",
       "      <td>None</td>\n",
       "      <td>None</td>\n",
       "      <td>None</td>\n",
       "      <td>L2R</td>\n",
       "      <td>...</td>\n",
       "      <td>192.168.2.109</td>\n",
       "      <td>tcp_ip</td>\n",
       "      <td>1263</td>\n",
       "      <td>209.132.183.62</td>\n",
       "      <td>14006</td>\n",
       "      <td>2010-06-17T08:48:36</td>\n",
       "      <td>2010-06-17T09:04:59</td>\n",
       "      <td>Normal</td>\n",
       "      <td>192.168.2.109_209.132.183.62_2010-06-17T08</td>\n",
       "      <td>1263</td>\n",
       "    </tr>\n",
       "    <tr>\n",
       "      <th>2223</th>\n",
       "      <td>FTP</td>\n",
       "      <td>116224</td>\n",
       "      <td>4852396</td>\n",
       "      <td>3422</td>\n",
       "      <td>1816</td>\n",
       "      <td>None</td>\n",
       "      <td>None</td>\n",
       "      <td>None</td>\n",
       "      <td>None</td>\n",
       "      <td>L2R</td>\n",
       "      <td>...</td>\n",
       "      <td>192.168.2.109</td>\n",
       "      <td>tcp_ip</td>\n",
       "      <td>1263</td>\n",
       "      <td>209.132.183.62</td>\n",
       "      <td>14006</td>\n",
       "      <td>2010-06-17T08:48:36</td>\n",
       "      <td>2010-06-17T09:02:59</td>\n",
       "      <td>Normal</td>\n",
       "      <td>192.168.2.109_209.132.183.62_2010-06-17T08</td>\n",
       "      <td>1263</td>\n",
       "    </tr>\n",
       "  </tbody>\n",
       "</table>\n",
       "<p>5 rows × 22 columns</p>\n",
       "</div>"
      ],
      "text/plain": [
       "     appName   totSB    totDB totDP totSP sourB64 sourUTF destB64 destUTF  \\\n",
       "4205     FTP   38208  1534597  1084   597    None    None    None    None   \n",
       "3955     FTP   85952  3603138  2541  1343    None    None    None    None   \n",
       "1114     FTP   91392  3803076  2682  1428    None    None    None    None   \n",
       "3496     FTP  108288  4575886  3227  1692    None    None    None    None   \n",
       "2223     FTP  116224  4852396  3422  1816    None    None    None    None   \n",
       "\n",
       "     direct  ...         source   pName sPort            dest  dPort  \\\n",
       "4205    L2R  ...  192.168.2.109  tcp_ip  1263  209.132.183.62  14006   \n",
       "3955    L2R  ...  192.168.2.109  tcp_ip  1263  209.132.183.62  14006   \n",
       "1114    L2R  ...  192.168.2.109  tcp_ip  1263  209.132.183.62  14006   \n",
       "3496    L2R  ...  192.168.2.109  tcp_ip  1263  209.132.183.62  14006   \n",
       "2223    L2R  ...  192.168.2.109  tcp_ip  1263  209.132.183.62  14006   \n",
       "\n",
       "            startDateTime         stopDateTime     Tag  \\\n",
       "4205  2010-06-17T08:48:36  2010-06-17T09:06:26  Normal   \n",
       "3955  2010-06-17T08:48:36  2010-06-17T09:05:59  Normal   \n",
       "1114  2010-06-17T08:48:36  2010-06-17T09:00:59  Normal   \n",
       "3496  2010-06-17T08:48:36  2010-06-17T09:04:59  Normal   \n",
       "2223  2010-06-17T08:48:36  2010-06-17T09:02:59  Normal   \n",
       "\n",
       "                                    IPs_sequence res_port  \n",
       "4205  192.168.2.109_209.132.183.62_2010-06-17T08     1263  \n",
       "3955  192.168.2.109_209.132.183.62_2010-06-17T08     1263  \n",
       "1114  192.168.2.109_209.132.183.62_2010-06-17T08     1263  \n",
       "3496  192.168.2.109_209.132.183.62_2010-06-17T08     1263  \n",
       "2223  192.168.2.109_209.132.183.62_2010-06-17T08     1263  \n",
       "\n",
       "[5 rows x 22 columns]"
      ]
     },
     "execution_count": 9,
     "metadata": {},
     "output_type": "execute_result"
    }
   ],
   "source": [
    "##YOUR CODE GOES HERE##\n",
    "dSET.head(5)"
   ]
  },
  {
   "cell_type": "markdown",
   "metadata": {
    "id": "7hGavnMC7wwG"
   },
   "source": [
    "## Main pipeline\n"
   ]
  },
  {
   "cell_type": "markdown",
   "metadata": {
    "id": "_W9uHiZxfpHt"
   },
   "source": [
    "### I stage. Keys building.\n"
   ]
  },
  {
   "cell_type": "markdown",
   "metadata": {
    "id": "TMhnVon3gDJo"
   },
   "source": [
    "Here you will build a set of keys by several columns and with the help of `groupby` method. Thus, we will count the number of unique attacks and form a sequence for the further research. Moreover, we will select one port by a boundary `10000` (i.e. if the port number is less than 10 000) and will use it in the method `groupby`.\n"
   ]
  },
  {
   "cell_type": "code",
   "execution_count": 10,
   "metadata": {
    "id": "rKce95T6xFVi",
    "tags": []
   },
   "outputs": [
    {
     "name": "stdout",
     "output_type": "stream",
     "text": [
      "Stage I. Keys building\n",
      "\n",
      "Unique keys:\n",
      "Tag         7261\n",
      "res_port    7261\n",
      "dtype: int64\n"
     ]
    }
   ],
   "source": [
    "## Build the sets (keys and sequences) in hour slices\n",
    "print(\"Stage I. Keys building\\n\")\n",
    "key = dSET.groupby('IPs_sequence')[['Tag', 'res_port']].agg({\"Tag\": lambda var_2: \"%s\" % ','.join([var_3 for var_3 in var_2]),\n",
    "          \"res_port\" :lambda var_2: \"%s\" % ','.join([str(var_3) if int(var_3) < 10000 else \"10000\" for var_3 in var_2])})\n",
    "\n",
    "print(\"Unique keys:\\n\" + str(key.count()))\n",
    "attacks = [var_4.split(\",\") for var_4 in key.Tag.tolist()]\n",
    "sequences = [var_4.split(\",\") for var_4 in key.res_port.tolist()]"
   ]
  },
  {
   "cell_type": "markdown",
   "metadata": {
    "id": "XsHtFKWVgnh3"
   },
   "source": [
    "### II stage. Label encoding.\n"
   ]
  },
  {
   "cell_type": "markdown",
   "metadata": {
    "id": "4Zv_yCjzgx1_"
   },
   "source": [
    "On this stage, you will form two sets: the number of unique tokens for the labels encoding process and the number of sequences. After this step, we will collapse our sequences into one sequence by the method `zip`.\n"
   ]
  },
  {
   "cell_type": "code",
   "execution_count": 11,
   "metadata": {
    "id": "8coEIzwnw7My",
    "tags": []
   },
   "outputs": [
    {
     "name": "stdout",
     "output_type": "stream",
     "text": [
      "Stage II. Label encoding\n",
      "\n",
      "Number of unique tokens : 4064\n",
      "Number of sequences : 7261\n"
     ]
    }
   ],
   "source": [
    "print(\"Stage II. Label encoding\\n\")\n",
    "U_tokens = list(set([var_5 for var_6 in sequences for var_5 in var_6]))\n",
    "print(\"Number of unique tokens :\", len(U_tokens))\n",
    "LE = LabelEncoder().fit(U_tokens)\n",
    "sequences = [LE.transform(var_7).tolist() for var_7 in sequences]\n",
    "sequences = [[var_6 + 1 for var_6 in var_5] for var_5 in sequences]\n",
    "print(\"Number of sequences :\", len(sequences))\n",
    "sequence_attack = zip(attacks, sequences)"
   ]
  },
  {
   "cell_type": "markdown",
   "metadata": {
    "id": "Xtc4cpDuhlLh"
   },
   "source": [
    "### III stage. Sequences generating for the future model.\n"
   ]
  },
  {
   "cell_type": "markdown",
   "metadata": {
    "id": "TlREINxVivQH"
   },
   "source": [
    "On this stage, you will form some additional sets which we can use to form standard X & Y sets for the further training process of our neuronet. Also, we set the size of the primary sequence.\n",
    "\n",
    "By the help of the input number that you will enter below, you will define the size of the primary sequence. The number has to be in the range from `10` to `20`, you can pick up the best value to obtain the best model.\n",
    "\n",
    "Replace `##YOUR CODE GOES HERE##` with your Python code.\n"
   ]
  },
  {
   "cell_type": "code",
   "execution_count": 12,
   "metadata": {
    "id": "9nf6e4GbwbTF",
    "tags": []
   },
   "outputs": [
    {
     "name": "stdout",
     "output_type": "stream",
     "text": [
      "Stage III. Sequences generating for the future model\n",
      "\n",
      "Length of the primary sequence : 14\n",
      "Length of X & Y sets : 149625\n"
     ]
    }
   ],
   "source": [
    "print(\"Stage III. Sequences generating for the future model\\n\")\n",
    "var_8 = np.float32(0)\n",
    "len_sequence = 14\n",
    "print(\"Length of the primary sequence :\", len_sequence)\n",
    "seq_IDX, seq_X, seq_Y, seq_ATT = [], [], [], []\n",
    "for var_10, (var_11, var_12) in enumerate(sequence_attack):\n",
    "    sequence_1 = [np.float32(0)] * (len_sequence) + var_12\n",
    "    sequence_2 = [np.float32(0)] * (len_sequence) + var_11\n",
    "    for var_9 in range(len_sequence, len(sequence_1)):\n",
    "        sequence_3 = sequence_1[(var_9 - len_sequence):(var_9)]\n",
    "        var_14 = []\n",
    "        for var_13 in sequence_3:\n",
    "            try:\n",
    "                var_14.append(var_13)\n",
    "            except:\n",
    "                var_14.append(var_8)\n",
    "        seq_X.append(var_14)\n",
    "        seq_Y.append(sequence_1[var_9])\n",
    "        seq_IDX.append(var_10)\n",
    "        seq_ATT.append(sequence_2[var_9])\n",
    "print(\"Length of X & Y sets :\", len(seq_X))"
   ]
  },
  {
   "cell_type": "markdown",
   "metadata": {
    "id": "isHa47x7jaGe"
   },
   "source": [
    "### IV stage. One-hot-encoder initializing.\n"
   ]
  },
  {
   "cell_type": "markdown",
   "metadata": {
    "id": "B2xcvn2EjhNQ"
   },
   "source": [
    "This section is dedicated to one-hot encoding. The advantage of `One-Hot-Encoding` is that the result is `binary`, not ordinal, and that everything is in orthogonal vector space. The downside is that the space can quickly explode for high power of the function and you start to fight the `curse of dimensionality`. By default, `OneHotEncoder` converts the data to a sparse matrix so as not to waste memory on storing numerous zeroes.\n"
   ]
  },
  {
   "cell_type": "code",
   "execution_count": 13,
   "metadata": {
    "id": "rv7gR5653034",
    "tags": []
   },
   "outputs": [
    {
     "name": "stdout",
     "output_type": "stream",
     "text": [
      "Stage IV. One-hot-encoder initializing\n",
      "\n",
      "Dimensionality size of set X : (149625, 14)\n"
     ]
    }
   ],
   "source": [
    "print(\"Stage IV. One-hot-encoder initializing\\n\")\n",
    "OHE = OneHotEncoder(sparse = False, categories = 'auto').fit(np.unique(seq_Y).reshape(-1, 1))\n",
    "\n",
    "X = np.array(seq_X)\n",
    "print(\"Dimensionality size of set X :\", X.shape)"
   ]
  },
  {
   "cell_type": "markdown",
   "metadata": {
    "id": "_1cLq05slA_U"
   },
   "source": [
    "### V stage. Model building.\n"
   ]
  },
  {
   "cell_type": "markdown",
   "metadata": {
    "id": "x20jxggVqgGl"
   },
   "source": [
    "You are to create your own model at this stage.\n",
    "\n",
    "The first layer of the model is `Embedding` layer, which can be used to create `dense` encoding of words (in our case it's `100` words) based on the input size of the defined vocabulary (in our case it's `number of unique tokens + 1`). Typically, sparse and dense word encodings denote coding efficiency.\n",
    "\n",
    "Further, we use a few (you can change this number) pairs of layers: `bidirectional LSTM` & `Dropout`. You can choose the number of layers pairs yourself.\n",
    "\n",
    "Using `bidirectional LSTM` will run your input in two ways: one from the past to the future and one from the future to the past (backwards). This distinguishes this approach from `unidirectional LSTM` which works in the opposite direction so you save information from the future. Thus, by using the two hidden states together, you can save information from both the past and the future at any time.\n",
    "\n",
    "`Dropout` [layer](https://arxiv.org/abs/1207.0580?utm_medium=Exinfluencer&utm_source=Exinfluencer&utm_content=000026UJ&utm_term=10006555&utm_id=NA-SkillsNetwork-Channel-SkillsNetworkQuickLabsAdvanced_ML_anomaly_detection_L327574471-2022-01-01) is used in neural networks to solve the problem of overfitting. Networks for training are obtained by dropping out neurons with probability `p`, so the probability that a neuron will remain in the network is `1 - p`.\n",
    "\n",
    "`Dense` layer is an ordinary tightly bonded layer of the neural network, where each neuron is connected to all inputs.\n",
    "\n",
    "Replace `##YOUR CODE GOES HERE##` with your Python code.\n"
   ]
  },
  {
   "cell_type": "code",
   "execution_count": 14,
   "metadata": {
    "id": "awr9mi4Aztqc",
    "tags": []
   },
   "outputs": [
    {
     "name": "stdout",
     "output_type": "stream",
     "text": [
      "Stage V. Model building\n",
      "\n"
     ]
    },
    {
     "name": "stderr",
     "output_type": "stream",
     "text": [
      "2023-12-26 00:47:10.932059: I tensorflow/compiler/jit/xla_cpu_device.cc:41] Not creating XLA devices, tf_xla_enable_xla_devices not set\n",
      "2023-12-26 00:47:10.933310: W tensorflow/stream_executor/platform/default/dso_loader.cc:60] Could not load dynamic library 'libcuda.so.1'; dlerror: libcuda.so.1: cannot open shared object file: No such file or directory\n",
      "2023-12-26 00:47:10.933354: W tensorflow/stream_executor/cuda/cuda_driver.cc:326] failed call to cuInit: UNKNOWN ERROR (303)\n",
      "2023-12-26 00:47:10.933401: I tensorflow/stream_executor/cuda/cuda_diagnostics.cc:156] kernel driver does not appear to be running on this host (jupyterlab-jcontrerasgc): /proc/driver/nvidia/version does not exist\n",
      "2023-12-26 00:47:10.934047: I tensorflow/core/platform/cpu_feature_guard.cc:142] This TensorFlow binary is optimized with oneAPI Deep Neural Network Library (oneDNN) to use the following CPU instructions in performance-critical operations:  AVX512F\n",
      "To enable them in other operations, rebuild TensorFlow with the appropriate compiler flags.\n",
      "2023-12-26 00:47:10.935082: I tensorflow/compiler/jit/xla_gpu_device.cc:99] Not creating XLA devices, tf_xla_enable_xla_devices not set\n"
     ]
    },
    {
     "name": "stdout",
     "output_type": "stream",
     "text": [
      "Model: \"sequential\"\n",
      "_________________________________________________________________\n",
      "Layer (type)                 Output Shape              Param #   \n",
      "=================================================================\n",
      "embedding (Embedding)        (None, None, 100)         406500    \n",
      "_________________________________________________________________\n",
      "bidirectional (Bidirectional (None, None, 100)         60400     \n",
      "_________________________________________________________________\n",
      "dropout (Dropout)            (None, None, 100)         0         \n",
      "_________________________________________________________________\n",
      "bidirectional_1 (Bidirection (None, 100)               60400     \n",
      "_________________________________________________________________\n",
      "dropout_1 (Dropout)          (None, 100)               0         \n",
      "_________________________________________________________________\n",
      "dense (Dense)                (None, 50)                5050      \n",
      "_________________________________________________________________\n",
      "dropout_2 (Dropout)          (None, 50)                0         \n",
      "_________________________________________________________________\n",
      "dense_1 (Dense)              (None, 4064)              207264    \n",
      "=================================================================\n",
      "Total params: 739,614\n",
      "Trainable params: 739,614\n",
      "Non-trainable params: 0\n",
      "_________________________________________________________________\n"
     ]
    }
   ],
   "source": [
    "print(\"Stage V. Model building\\n\")\n",
    "drop_level = 0.35 # You can choose a drop level yourself\n",
    "N_neurons = 50   # You can choose the number of neurons yourself\n",
    "\n",
    "model = Sequential()\n",
    "model.add(layers.Embedding(output_dim = 100,\n",
    "                    input_dim = len(U_tokens) + 1,\n",
    "                    mask_zero = True))\n",
    "\n",
    "model.add(layers.Bidirectional(LSTM(N_neurons, return_sequences = True)))\n",
    "model.add(layers.Dropout(drop_level))\n",
    "\n",
    "# model.add(layers.Bidirectional(LSTM(N_neurons, activation = \"relu\", return_sequences = False))\n",
    "# model.add(layers.Dropout(drop_level))\n",
    "\n",
    "model.add(layers.Bidirectional(LSTM(N_neurons, activation = \"relu\", return_sequences = False)))\n",
    "model.add(layers.Dropout(drop_level))\n",
    "\n",
    "model.add(layers.Dense(N_neurons, activation = \"linear\"))\n",
    "model.add(layers.Dropout(drop_level))\n",
    "\n",
    "model.add(layers.Dense(len(U_tokens), activation = \"softmax\"))\n",
    "\n",
    "model.summary()"
   ]
  },
  {
   "cell_type": "markdown",
   "metadata": {
    "id": "ZyRjbH0EyOyT"
   },
   "source": [
    "### VI stage. Model compiling & fitting.\n"
   ]
  },
  {
   "cell_type": "markdown",
   "metadata": {
    "id": "mKeW3viryrSC"
   },
   "source": [
    "This stage allows you to train your model, but firstly, you should set some hyperparameters & other variable values, such as `batch size`, the number of `epochs` for training, the types of `optimizer` & `loss` function. You can change all or a part of them during your research. Fitting process takes some time.\n",
    "\n",
    "Replace `##YOUR CODE GOES HERE##` with your Python code.\n"
   ]
  },
  {
   "cell_type": "code",
   "execution_count": 15,
   "metadata": {
    "id": "PFp4lthL5Sqq",
    "tags": []
   },
   "outputs": [
    {
     "name": "stdout",
     "output_type": "stream",
     "text": [
      "Stage VI. Compile and fit the model\n",
      "\n",
      "Epoch 1/10\n"
     ]
    },
    {
     "name": "stderr",
     "output_type": "stream",
     "text": [
      "2023-12-26 00:47:45.615513: I tensorflow/compiler/mlir/mlir_graph_optimization_pass.cc:116] None of the MLIR optimization passes are enabled (registered 2)\n",
      "2023-12-26 00:47:45.616131: I tensorflow/core/platform/profile_utils/cpu_utils.cc:112] CPU Frequency: 2394310000 Hz\n"
     ]
    },
    {
     "name": "stdout",
     "output_type": "stream",
     "text": [
      "292/292 [==============================] - 224s 735ms/step - loss: 8.1431 - accuracy: 0.1527\n",
      "Epoch 2/10\n",
      "292/292 [==============================] - 211s 722ms/step - loss: 6.7271 - accuracy: 0.0794\n",
      "Epoch 3/10\n",
      "292/292 [==============================] - 210s 718ms/step - loss: 6.5159 - accuracy: 0.0773\n",
      "Epoch 4/10\n",
      "292/292 [==============================] - 207s 709ms/step - loss: 6.0909 - accuracy: 0.1840\n",
      "Epoch 5/10\n",
      "292/292 [==============================] - 218s 745ms/step - loss: 5.8303 - accuracy: 0.2172\n",
      "Epoch 6/10\n",
      "292/292 [==============================] - 216s 740ms/step - loss: 5.5429 - accuracy: 0.2260\n",
      "Epoch 7/10\n",
      "292/292 [==============================] - 215s 736ms/step - loss: 5.3194 - accuracy: 0.2254\n",
      "Epoch 8/10\n",
      "292/292 [==============================] - 212s 725ms/step - loss: 5.1472 - accuracy: 0.2255\n",
      "Epoch 9/10\n",
      "292/292 [==============================] - 211s 723ms/step - loss: 4.9856 - accuracy: 0.2283\n",
      "Epoch 10/10\n",
      "292/292 [==============================] - 212s 726ms/step - loss: 4.8265 - accuracy: 0.2287\n"
     ]
    }
   ],
   "source": [
    "print(\"Stage VI. Compile and fit the model\\n\")\n",
    "\n",
    "batch_size = 512  # You can choose a batch size yourself\n",
    "n_epochs = 10     # You can choose the number of epochs yourself\n",
    "\n",
    "optim = tf.keras.optimizers.Nadam()   # You can choose an optimizer yourself\n",
    "loss_f = tf.keras.metrics.categorical_crossentropy\n",
    "\n",
    "T_data = B_Generator(batch_size, np.asarray(X), np.asarray(seq_Y), OHE)\n",
    "\n",
    "model.compile(loss = loss_f,\n",
    "              optimizer = optim,\n",
    "              metrics = ['accuracy'])\n",
    "\n",
    "history = model.fit_generator(T_data.__iter__(),\n",
    "    steps_per_epoch = T_data.n_b,\n",
    "    epochs = n_epochs,\n",
    "    verbose = 1)"
   ]
  },
  {
   "cell_type": "markdown",
   "metadata": {
    "id": "FG56hbLv2xbf"
   },
   "source": [
    "If you want to obtain better training results, then you should set more `epochs`, for instance, equal to 100 or more. However, this case requires more time.\n"
   ]
  },
  {
   "cell_type": "markdown",
   "metadata": {
    "id": "IWCxHx2K23gS"
   },
   "source": [
    "### VII stage. Results visualization.\n"
   ]
  },
  {
   "cell_type": "markdown",
   "metadata": {
    "id": "pSYuFkZe276A"
   },
   "source": [
    "You see the results of training for the loss & accuracy.\n",
    "\n",
    "Replace `##YOUR CODE GOES HERE##` with your Python code.\n"
   ]
  },
  {
   "cell_type": "code",
   "execution_count": 16,
   "metadata": {
    "id": "ZnD4msd55_7x",
    "tags": []
   },
   "outputs": [
    {
     "name": "stdout",
     "output_type": "stream",
     "text": [
      "Stage VII. Results visualization\n",
      "\n"
     ]
    },
    {
     "data": {
      "image/png": "[encoded data removed]",
      "text/plain": [
       "<Figure size 1200x500 with 2 Axes>"
      ]
     },
     "metadata": {},
     "output_type": "display_data"
    }
   ],
   "source": [
    "print(\"Stage VII. Results visualization\\n\")\n",
    "plot_history(history)"
   ]
  },
  {
   "cell_type": "markdown",
   "metadata": {
    "id": "hlRf0ghW73aa"
   },
   "source": [
    "If you can see a reduction of the values for the `loss` distribution, and if you see an increase of the values for the `accuracy`, then it's a good sign. It means your model training goes in the right way.\n",
    "\n",
    "Thus, the main goal has been reached.\n"
   ]
  },
  {
   "cell_type": "markdown",
   "metadata": {
    "id": "aervsfWIEIdg"
   },
   "source": [
    "### VIII stage. Model saving & prediction checking.\n"
   ]
  },
  {
   "cell_type": "markdown",
   "metadata": {
    "id": "C0-TQX5NEM8U"
   },
   "source": [
    "We still have two steps to do. The first is to save our trained model so that we can use it in the further research. The second is to check our saved model and try to make a prediction.\n",
    "\n",
    "You can enter any name of your model for saving, but make sure that it is in quotes.\n",
    "\n",
    "Replace `##YOUR CODE GOES HERE##` with your Python code.\n"
   ]
  },
  {
   "cell_type": "code",
   "execution_count": 17,
   "metadata": {
    "id": "T3MIvAwFyr1G",
    "tags": []
   },
   "outputs": [
    {
     "name": "stdout",
     "output_type": "stream",
     "text": [
      "Stage VIII. Model saving & prediction checking\n",
      "\n",
      "Size of the saved model : 8962872 bytes\n"
     ]
    }
   ],
   "source": [
    "print(\"Stage VIII. Model saving & prediction checking\\n\")\n",
    "\n",
    "M_name = \"My_model\"\n",
    "\n",
    "filepath = M_name + '.h5'\n",
    "tf.keras.models.save_model(model, filepath, include_optimizer = True, save_format = 'h5', overwrite = True)\n",
    "print(\"Size of the saved model :\", os.stat(filepath).st_size, \"bytes\")"
   ]
  },
  {
   "cell_type": "markdown",
   "metadata": {
    "id": "8u3HPVG4Ms_S"
   },
   "source": [
    "In addition, you can see the size of your model. At the same time, we could save our model as one file (in `.h5` format) with the help of `Tensorflow` backend, which could make it more convenient to use further.\n",
    "\n",
    "Replace `##YOUR CODE GOES HERE##` with your Python code.\n"
   ]
  },
  {
   "cell_type": "code",
   "execution_count": 21,
   "metadata": {
    "id": "sHxL_kecZtS4",
    "tags": []
   },
   "outputs": [
    {
     "ename": "SyntaxError",
     "evalue": "invalid syntax (1634633630.py, line 2)",
     "output_type": "error",
     "traceback": [
      "\u001b[0;36m  File \u001b[0;32m\"/tmp/ipykernel_68/1634633630.py\"\u001b[0;36m, line \u001b[0;32m2\u001b[0m\n\u001b[0;31m    predicts = model_L.predict(X, batch_size = batch_size)\u001b[0m\n\u001b[0m           ^\u001b[0m\n\u001b[0;31mSyntaxError\u001b[0m\u001b[0;31m:\u001b[0m invalid syntax\n"
     ]
    }
   ],
   "source": [
    "model_L = tf.keras.models.load_model(tf.keras.models.Load_model(labs/Advanced_ML_anomaly_detection_L3/My_model.h5)\n",
    "predicts = model_L.predict(X, batch_size = batch_size)\n",
    "print(\"Dimensionality sizes of model predicts :\", predicts.shape, \"\\n\")\n",
    "print(\"Compare with length of X & Y sets :\\t\", len(seq_X), \"\\nand with number of tokens :\\t\\t\", len(U_tokens))"
   ]
  },
  {
   "cell_type": "markdown",
   "metadata": {
    "id": "_hZUA0RtT9Zs"
   },
   "source": [
    "Double-click **here** for the solution.\n",
    "\n",
    "<!-- \n",
    "model_L = tf.keras.models.load_model(filepath)\n",
    "-->\n"
   ]
  },
  {
   "cell_type": "markdown",
   "metadata": {
    "id": "iEbNXiqmTTh0"
   },
   "source": [
    "## Author\n"
   ]
  },
  {
   "cell_type": "markdown",
   "metadata": {
    "id": "6_1ZOvXKTTh0"
   },
   "source": [
    "[Sergii Kavun](https://www.linkedin.com/in/sergii-kavun/?utm_medium=Exinfluencer&utm_source=Exinfluencer&utm_content=000026UJ&utm_term=10006555&utm_id=NA-SkillsNetwork-Channel-SkillsNetworkQuickLabsAdvanced_ML_anomaly_detection_L327574471-2022-01-01)\n"
   ]
  },
  {
   "cell_type": "markdown",
   "metadata": {
    "id": "bHpM3GyTTTh2"
   },
   "source": [
    "## Change Log\n"
   ]
  },
  {
   "cell_type": "markdown",
   "metadata": {
    "id": "mrgMUa_ETTh2"
   },
   "source": [
    "| Date (YYYY-MM-DD) | Version | Changed By    | Change Description   |\n",
    "| ----------------- | ------- | ------------- | -------------------- |\n",
    "| 2021-07-10        | 1.0     | Kavun, Sergii | Code improving       |\n",
    "| 2021-06-21        | 0.21    | Kavun, Sergii | Code refactoring     |\n",
    "| 2021-06-14        | 0.2     | Kavun, Sergii | Translate to English |\n",
    "| 2021-06-12        | 0.1     | Kavun, Sergii | Created Lab          |\n"
   ]
  },
  {
   "cell_type": "markdown",
   "metadata": {
    "id": "Ma5EMufCTTh2"
   },
   "source": [
    "Copyright © 2021 IBM Corporation. All rights reserved.\n"
   ]
  }
 ],
 "metadata": {
  "colab": {
   "collapsed_sections": [],
   "name": "Advanced_ML_anomaly_detection_L3.ipynb",
   "provenance": [],
   "toc_visible": true
  },
  "kernelspec": {
   "display_name": "Python",
   "language": "python",
   "name": "conda-env-python-py"
  },
  "language_info": {
   "codemirror_mode": {
    "name": "ipython",
    "version": 3
   },
   "file_extension": ".py",
   "mimetype": "text/x-python",
   "name": "python",
   "nbconvert_exporter": "python",
   "pygments_lexer": "ipython3",
   "version": "3.7.12"
  }
 },
 "nbformat": 4,
 "nbformat_minor": 4
}
